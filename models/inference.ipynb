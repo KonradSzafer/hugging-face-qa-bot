{
 "cells": [
  {
   "cell_type": "code",
   "execution_count": null,
   "metadata": {},
   "outputs": [],
   "source": [
    "from transformers import AutoModelForSeq2SeqLM, AutoTokenizer\n",
    "\n",
    "model = AutoModelForSeq2SeqLM.from_pretrained('google/flan-t5-large')\n",
    "tokenizer = AutoTokenizer.from_pretrained('google/flan-t5-large')"
   ]
  },
  {
   "cell_type": "code",
   "execution_count": null,
   "metadata": {},
   "outputs": [],
   "source": [
    "model.config"
   ]
  },
  {
   "cell_type": "code",
   "execution_count": null,
   "metadata": {},
   "outputs": [],
   "source": [
    "prompt = 'How to install python package as command',\n",
    "# prompt = 'How to prepare well done steak'\n",
    "\n",
    "inputs = tokenizer(prompt, return_tensors='pt')\n",
    "outputs = model.generate(\n",
    "    **inputs,\n",
    "    min_length=256,\n",
    "    max_new_tokens=512,\n",
    "    length_penalty=2,\n",
    "    num_beams=16,\n",
    "    no_repeat_ngram_size=2,\n",
    "    temperature=0.8,\n",
    "    top_k=150,\n",
    "    top_p=0.9,\n",
    "    early_stopping=True\n",
    ")\n",
    "outputs_text = tokenizer.batch_decode(outputs, skip_special_tokens=True)\n",
    "outputs_text"
   ]
  },
  {
   "cell_type": "code",
   "execution_count": null,
   "metadata": {},
   "outputs": [],
   "source": []
  }
 ],
 "metadata": {
  "kernelspec": {
   "display_name": "hf_qa_bot",
   "language": "python",
   "name": "python3"
  },
  "language_info": {
   "codemirror_mode": {
    "name": "ipython",
    "version": 3
   },
   "file_extension": ".py",
   "mimetype": "text/x-python",
   "name": "python",
   "nbconvert_exporter": "python",
   "pygments_lexer": "ipython3",
   "version": "3.10.9"
  },
  "orig_nbformat": 4,
  "vscode": {
   "interpreter": {
    "hash": "e769ac600d1c65682759767682b2a946c0eaa09d353302f712fe4c2e822e15df"
   }
  }
 },
 "nbformat": 4,
 "nbformat_minor": 2
}
